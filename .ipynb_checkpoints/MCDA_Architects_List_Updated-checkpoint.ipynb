{
 "cells": [
  {
   "cell_type": "markdown",
   "id": "01fbb44e",
   "metadata": {},
   "source": [
    "# Notebook to compare and rank options"
   ]
  },
  {
   "cell_type": "markdown",
   "id": "eaf48161",
   "metadata": {},
   "source": [
    "This webtool uses Multi-criteria decision analysis to rank the ARchitecture firms listed in WA100 2023 by Building Design Journal [https://www.bdonline.co.uk/wa100-2023-the-big-list/5121420.article]\n",
    "\n",
    "The comparison method choosen here is TOPSIS which can compare values of different units. [https://scikit-criteria.quatrope.org/en/latest/tutorial/quickstart.html]"
   ]
  },
  {
   "cell_type": "code",
   "execution_count": 41,
   "id": "862cbfb5",
   "metadata": {},
   "outputs": [],
   "source": [
    "import skcriteria as skc\n",
    "import ipywidgets as widgets\n",
    "from ipywidgets import interact, interactive, fixed, interact_manual\n",
    "from skcriteria.madm import similarity  # here lives TOPSIS\n",
    "from skcriteria.pipeline import mkpipe  # this function is for create pipelines\n",
    "from skcriteria.preprocessing import invert_objectives, scalers\n",
    "from __future__ import print_function\n",
    "from ipywidgets import interact, interactive, fixed, interact_manual,Output\n",
    "import pandas as pd\n",
    "import numpy as np\n",
    "import matplotlib.pyplot as plt\n",
    "import pandas as pd\n",
    "import matplotlib as mtplt\n",
    "from IPython.display import display\n",
    "from sklearn import preprocessing\n",
    "from matplotlib.colors import LinearSegmentedColormap\n"
   ]
  },
  {
   "cell_type": "code",
   "execution_count": 16,
   "id": "faa5fb73",
   "metadata": {},
   "outputs": [],
   "source": [
    "pipe = mkpipe(\n",
    "    invert_objectives.NegateMinimize(),\n",
    "    scalers.VectorScaler(target=\"matrix\"),  # this scaler transform the matrix\n",
    "    scalers.SumScaler(target=\"weights\"),  # and this transform the weights\n",
    "    similarity.TOPSIS(),\n",
    ")\n"
   ]
  },
  {
   "cell_type": "code",
   "execution_count": 17,
   "id": "70d34f5c-fc25-4b39-b569-9029ea751cad",
   "metadata": {},
   "outputs": [],
   "source": [
    "# Define your custom colors\n",
    "ram_1 = '#273943' \n",
    "ram_2 = '#62294B' \n",
    "ram_3= '#05326E'\n",
    "ram_4='#125A40'\n",
    "ram_5= '#ADD095'\n",
    "ram_6= '#E3E1D8'\n",
    "colors = [ram_1,ram_2,ram_3,ram_4,ram_5,ram_6]\n",
    "# Create a LinearSegmentedColormap\n",
    "custom_cmap = LinearSegmentedColormap.from_list('custom_colormap', colors, N=256)"
   ]
  },
  {
   "cell_type": "markdown",
   "id": "1433853b",
   "metadata": {},
   "source": [
    "## Criteria and base data  "
   ]
  },
  {
   "cell_type": "markdown",
   "id": "5671554f",
   "metadata": {},
   "source": [
    "Each criteria was given a score from (0-10) based on the research from the Top 100 Architects for 2023 list published by BD Online. Regional filters have been added to filter the data as well.\n",
    "1. **BD Rank 2023:** Rank as per the database. Firms that are not listed on the Journal have 100 as their Ranking \n",
    "2. **International Portfolio:** Website research ( Scoring between the listed firms ) \n",
    "3. **Complex Projects:** Complexity in terms of scale and geometry ( Scoring between the listed firms ) \n",
    "4. **High Rise Buildings:** Highrise as defined by CTBUH ( Percentage of highrise jobs ) \n",
    "5. **Current Relationship:** (Currently no Data is added for this criteria) \n",
    "6. **Align with Values:** Check if the ideas promoted by the company align with Ramboll values\n",
    "7. **Architects employed:** The number of Architects in the company as per the database\n",
    "8. **Turnover:** Scoring between listed firms in USD Million\n",
    "9. **Locations:** Number of locations from where they operate out of ( Scoring between the listed firms ) "
   ]
  },
  {
   "cell_type": "code",
   "execution_count": 18,
   "id": "5a41bc56",
   "metadata": {},
   "outputs": [],
   "source": [
    "Base_Data= pd.read_csv(\"Pandas_Data_frame_09022024.csv\")"
   ]
  },
  {
   "cell_type": "code",
   "execution_count": 19,
   "id": "be5cb258",
   "metadata": {},
   "outputs": [],
   "source": [
    "archi_list=Base_Data[\"Architect\"].to_numpy()"
   ]
  },
  {
   "cell_type": "code",
   "execution_count": 20,
   "id": "e1575efd",
   "metadata": {},
   "outputs": [],
   "source": [
    "objectives = [min,max,max,max,max,max,max,max,max]"
   ]
  },
  {
   "cell_type": "code",
   "execution_count": 21,
   "id": "1054fdab",
   "metadata": {},
   "outputs": [],
   "source": [
    "criteria_1 =[\"BD Rank 2023\", \"International Portfolio\",\"Complex projects\",\"Highrise buildings\", \"Current relationship\", \"Align with values\",\"Architects employed\",\"Turnover\",\"Locations\"]"
   ]
  },
  {
   "cell_type": "markdown",
   "id": "9cf7d9b0",
   "metadata": {},
   "source": [
    "layout = widgets.Layout(width='auto', height='auto') #set width and height\n",
    "style = {'description_width': 'initial'} # Display full text"
   ]
  },
  {
   "cell_type": "code",
   "execution_count": 22,
   "id": "d33f26b3",
   "metadata": {},
   "outputs": [],
   "source": [
    "def criteria_slider(name):\n",
    "    criteria_slider=widgets.IntSlider(   \n",
    "    value=5,\n",
    "    min=0,\n",
    "    max=10,\n",
    "    step=1,\n",
    "    description=str(name),\n",
    "    style = {'description_width': 'initial'},\n",
    "    disabled=False,\n",
    "    continuous_update=False,\n",
    "    orientation='horizontal',\n",
    "    readout=True,\n",
    "    readout_format='d')\n",
    "    return criteria_slider"
   ]
  },
  {
   "cell_type": "code",
   "execution_count": 23,
   "id": "9fa3fbed",
   "metadata": {},
   "outputs": [],
   "source": [
    "def selection_dropdown():\n",
    "    selection_dropdown=widgets.Dropdown(\n",
    "        options=[('UK Presence', 1), ('DK Presence', 2),('NO Presence', 3),('DE Presence', 4),('UAE Presence', 5),('SG Presence', 6),('US Presence', 7) ],\n",
    "        value=1,\n",
    "        description='Selection Criteria:',\n",
    "        style= {'description_width': 'initial'}\n",
    "    )\n",
    "    return selection_dropdown\n"
   ]
  },
  {
   "cell_type": "code",
   "execution_count": 45,
   "id": "4bda4bbc-6e86-4e19-9cd6-4d6c8f5c701e",
   "metadata": {},
   "outputs": [],
   "source": [
    "selection_dropdown_2=widgets.Dropdown(\n",
    "options=[('UK Presence', 1), ('DK Presence', 2),('NO Presence', 3),('DE Presence', 4),('UAE Presence', 5),('SG Presence', 6),('US Presence', 7) ],\n",
    "value=1,\n",
    "description='Selection Criteria:',\n",
    "style= {'description_width': 'initial'}\n",
    ")"
   ]
  },
  {
   "cell_type": "markdown",
   "id": "749547f2",
   "metadata": {},
   "source": [
    "## Vizualise the base data"
   ]
  },
  {
   "cell_type": "markdown",
   "id": "68564b6e",
   "metadata": {},
   "source": [
    "#### <font color='red'> The scores given for the various categories are displayed in this heat plot. The weighting for each category done later and will be applied to these scores </font>  "
   ]
  },
  {
   "cell_type": "code",
   "execution_count": 47,
   "id": "09cd2052-a65e-4cc6-a524-06b889935e5f",
   "metadata": {},
   "outputs": [
    {
     "data": {
      "application/vnd.jupyter.widget-view+json": {
       "model_id": "e373c0b9e705411ebc5ee47cdd042d84",
       "version_major": 2,
       "version_minor": 0
      },
      "text/plain": [
       "interactive(children=(Dropdown(description='Selection Criteria:', options=(('UK Presence', 1), ('DK Presence',…"
      ]
     },
     "metadata": {},
     "output_type": "display_data"
    },
    {
     "data": {
      "text/plain": [
       "<function __main__.dm_generator(j)>"
      ]
     },
     "execution_count": 47,
     "metadata": {},
     "output_type": "execute_result"
    }
   ],
   "source": [
    "@interact(\n",
    "        j=selection_dropdown())\n",
    "\n",
    "def g(j):\n",
    "    \n",
    "    if j == 1 :\n",
    "        x= Base_Data.loc[Base_Data['UK Presence'] ==1]\n",
    "    elif j == 2:\n",
    "        x= Base_Data.loc[Base_Data['DK Presence'] == 1]\n",
    "    elif j == 3:\n",
    "        x= Base_Data.loc[Base_Data['NO Presence'] == 1]\n",
    "    elif j == 4:\n",
    "        x= Base_Data.loc[Base_Data['DE Presence'] == 1]\n",
    "    elif j == 5:\n",
    "        x= Base_Data.loc[Base_Data['UAE Presence'] == 1]\n",
    "    elif j == 6:\n",
    "        x= Base_Data.loc[Base_Data['SG Presence'] == 1]\n",
    "    elif j == 7:\n",
    "        x= Base_Data.loc[Base_Data['US Presence'] == 1]\n",
    "\n",
    "    \n",
    "    droped_data= x.drop(x.columns[0:9],axis=1)\n",
    "    droped_data_last= droped_data.drop(droped_data.columns[9],axis=1)\n",
    "    data_matrix= droped_data_last.to_numpy()\n",
    "    data_matrix[:, 0]= 100 - data_matrix[:, 0]\n",
    "    data_matrix_normalized = preprocessing.normalize(data_matrix,axis=0,norm=\"max\")\n",
    "    \n",
    "    y=x[\"Architect\"].to_numpy()\n",
    "\n",
    "    dm = skc.mkdm(\n",
    "    data_matrix_normalized,\n",
    "    objectives,\n",
    "    weights=[0.5,0.5,0.5,0.5,0.5,0.5,0.5,0.5,0.5],\n",
    "    alternatives=y,\n",
    "    criteria= criteria_1\n",
    "    )\n",
    "    rank = pipe.evaluate(dm)\n",
    "    Ranking_table =  pd.DataFrame({\n",
    "    'Architects': rank.alternatives,\n",
    "    'Rank': rank.rank_\n",
    "    })\n",
    "    sorted_ranks= Ranking_table.sort_values(by=['Rank'])\n",
    "    fig=plt.figure(figsize=(8,10), dpi= 100, facecolor='w', edgecolor='k')\n",
    "    return dm.plot(cmap=\"terrain\")"
   ]
  },
  {
   "cell_type": "markdown",
   "id": "b819c2e0",
   "metadata": {},
   "source": [
    "## Adjust the sliders as per preference and view the Rankings"
   ]
  },
  {
   "cell_type": "markdown",
   "id": "145a3451",
   "metadata": {},
   "source": [
    "Adjust the sliders to create a decision matrix and view the results accordingly\n",
    "Select the filter before assining the values to the criteria"
   ]
  },
  {
   "cell_type": "code",
   "execution_count": 11,
   "id": "9a0228d1",
   "metadata": {
    "jupyter": {
     "source_hidden": true
    }
   },
   "outputs": [
    {
     "data": {
      "application/vnd.jupyter.widget-view+json": {
       "model_id": "fa3672bafb70452a9c41fbeb1e5000a6",
       "version_major": 2,
       "version_minor": 0
      },
      "text/plain": [
       "interactive(children=(Dropdown(description='Selection Criteria:', options=(('UK Presence', 1), ('DK Presence',…"
      ]
     },
     "metadata": {},
     "output_type": "display_data"
    }
   ],
   "source": [
    "@interact(a=criteria_slider(criteria_1[0]),\n",
    " b=criteria_slider(criteria_1[1]),\n",
    " c=criteria_slider(criteria_1[2]),\n",
    " d=criteria_slider(criteria_1[3]),\n",
    " e=criteria_slider(criteria_1[4]),\n",
    " f=criteria_slider(criteria_1[5]),\n",
    " g=criteria_slider(criteria_1[6]),\n",
    " h=criteria_slider(criteria_1[7]),\n",
    " i=criteria_slider(criteria_1[8]),\n",
    "        j=selection_dropdown())\n",
    "\n",
    "def g(j,a,b,c,d,e,f,g,h,i):\n",
    "    \n",
    "    if j == 1 :\n",
    "        x= Base_Data.loc[Base_Data['UK Presence'] ==1]\n",
    "    elif j == 2:\n",
    "        x= Base_Data.loc[Base_Data['DK Presence'] == 1]\n",
    "    elif j == 3:\n",
    "        x= Base_Data.loc[Base_Data['NO Presence'] == 1]\n",
    "    elif j == 4:\n",
    "        x= Base_Data.loc[Base_Data['DE Presence'] == 1]\n",
    "    elif j == 5:\n",
    "        x= Base_Data.loc[Base_Data['UAE Presence'] == 1]\n",
    "    elif j == 6:\n",
    "        x= Base_Data.loc[Base_Data['SG Presence'] == 1]\n",
    "    elif j == 7:\n",
    "        x= Base_Data.loc[Base_Data['US Presence'] == 1]\n",
    "    \n",
    "    droped_data= x.drop(x.columns[0:9],axis=1)\n",
    "    droped_data_last= droped_data.drop(droped_data.columns[9],axis=1)\n",
    "    data_matrix= droped_data_last.to_numpy()\n",
    "    y=x[\"Architect\"].to_numpy()\n",
    "    \n",
    "    dm_2 = skc.mkdm(\n",
    "    data_matrix,\n",
    "    objectives,\n",
    "    weights=[a/10,b/10,c/10,d/10,e/10,f/10,g/10,h/1,i/1],\n",
    "    alternatives=y,\n",
    "    criteria= criteria_1\n",
    "    )\n",
    "    rank = pipe.evaluate(dm_2)\n",
    "    Ranking_table =  pd.DataFrame({\n",
    "    'Architects': rank.alternatives,\n",
    "    'Rank': rank.rank_\n",
    "    })\n",
    "    sorted_ranks= Ranking_table.sort_values(by=['Rank'])\n",
    "\n",
    "    return sorted_ranks.style.hide()"
   ]
  },
  {
   "cell_type": "markdown",
   "id": "b58da6b6",
   "metadata": {},
   "source": [
    "# Comparison of all Firms on the List "
   ]
  },
  {
   "cell_type": "markdown",
   "id": "e0eb742c",
   "metadata": {},
   "source": [
    "Heat map for all the firms listed in the database "
   ]
  },
  {
   "cell_type": "code",
   "execution_count": 15,
   "id": "8539e43f-610e-4c3d-ab2f-5bdb750b0f28",
   "metadata": {
    "collapsed": true,
    "jupyter": {
     "outputs_hidden": true
    }
   },
   "outputs": [
    {
     "data": {
      "text/plain": [
       "<Figure size 1000x2000 with 0 Axes>"
      ]
     },
     "metadata": {},
     "output_type": "display_data"
    }
   ],
   "source": [
    "droped_data_2= Base_Data.drop(Base_Data.columns[0:9],axis=1)\n",
    "droped_data_last_all= droped_data_2.drop(droped_data_2.columns[9],axis=1)\n",
    "data_matrix_all= droped_data_last_all.to_numpy()\n",
    "data_matrix_all[:, 0]= 100 - data_matrix_all[:, 0]\n",
    "data_matrix_normalized_all = preprocessing.normalize(data_matrix_all,axis=0,norm=\"max\")\n",
    "\n",
    "y=Base_Data[\"Architect\"].to_numpy()\n",
    "\n",
    "dm_all = skc.mkdm(\n",
    "data_matrix_normalized_all,\n",
    "objectives,\n",
    "weights=[0.5,0.5,0.5,0.5,0.5,0.5,0.5,0.5,0.5],\n",
    "alternatives=y,\n",
    "criteria= criteria_1\n",
    "    )\n",
    "rank = pipe.evaluate(dm_all)\n",
    "Ranking_table =  pd.DataFrame({\n",
    "'Architects': rank.alternatives,\n",
    "'Rank': rank.rank_\n",
    "})\n",
    "sorted_ranks= Ranking_table.sort_values(by=['Rank'])\n",
    "fig=plt.figure(figsize=(10,20), dpi= 100, facecolor='w', edgecolor='k')\n",
    "dm_all.plot(cmap=\"terrain\")"
   ]
  },
  {
   "cell_type": "markdown",
   "id": "526567bc",
   "metadata": {},
   "source": [
    "## Adjust the sliders as per preference and view the Rankings\n",
    "Ranking comparison for all the firms listed in the database "
   ]
  },
  {
   "cell_type": "code",
   "execution_count": 13,
   "id": "97944672",
   "metadata": {},
   "outputs": [
    {
     "data": {
      "application/vnd.jupyter.widget-view+json": {
       "model_id": "7c1686c9ec8245608464601f95798eb9",
       "version_major": 2,
       "version_minor": 0
      },
      "text/plain": [
       "interactive(children=(IntSlider(value=5, continuous_update=False, description='BD Rank 2023', max=10, style=Sl…"
      ]
     },
     "metadata": {},
     "output_type": "display_data"
    }
   ],
   "source": [
    "@interact(a=criteria_slider(criteria_1[0]),\n",
    " b=criteria_slider(criteria_1[1]),\n",
    " c=criteria_slider(criteria_1[2]),\n",
    " d=criteria_slider(criteria_1[3]),\n",
    " e=criteria_slider(criteria_1[4]),\n",
    " f=criteria_slider(criteria_1[5]),\n",
    " g=criteria_slider(criteria_1[6]),\n",
    " h=criteria_slider(criteria_1[7]),\n",
    " i=criteria_slider(criteria_1[8]),\n",
    "       )\n",
    "\n",
    "def g(a,b,c,d,e,f,g,h,i):\n",
    "    \n",
    "    droped_data_all= Base_Data.drop(Base_Data.columns[0:9],axis=1)\n",
    "    droped_data_last_all= droped_data_all.drop(droped_data_all.columns[9],axis=1)\n",
    "    data_matrix_all_2= droped_data_last_all.to_numpy()\n",
    "    archi_list=Base_Data[\"Architect\"].to_numpy()\n",
    "    \n",
    "    dm_3 = skc.mkdm(\n",
    "    data_matrix_all_2,\n",
    "    objectives,\n",
    "    weights=[a/10,b/10,c/10,d/10,e/10,f/10,g/10,h/1,i/1],\n",
    "    alternatives=archi_list,\n",
    "    criteria= criteria_1\n",
    "    )\n",
    "    rank = pipe.evaluate(dm_3)\n",
    "    Ranking_table =  pd.DataFrame({\n",
    "    'Architects': rank.alternatives,\n",
    "    'Rank': rank.rank_\n",
    "    })\n",
    "    sorted_ranks= Ranking_table.sort_values(by=['Rank'])\n",
    "\n",
    "    return sorted_ranks.style.hide()"
   ]
  }
 ],
 "metadata": {
  "kernelspec": {
   "display_name": "Python 3 (ipykernel)",
   "language": "python",
   "name": "python3"
  },
  "language_info": {
   "codemirror_mode": {
    "name": "ipython",
    "version": 3
   },
   "file_extension": ".py",
   "mimetype": "text/x-python",
   "name": "python",
   "nbconvert_exporter": "python",
   "pygments_lexer": "ipython3",
   "version": "3.12.1"
  }
 },
 "nbformat": 4,
 "nbformat_minor": 5
}
